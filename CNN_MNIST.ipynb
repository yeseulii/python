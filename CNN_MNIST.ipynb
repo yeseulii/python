{
  "cells": [
    {
      "cell_type": "markdown",
      "metadata": {
        "id": "view-in-github",
        "colab_type": "text"
      },
      "source": [
        "<a href=\"https://colab.research.google.com/github/yeseulii/python/blob/main/CNN_MNIST.ipynb\" target=\"_parent\"><img src=\"https://colab.research.google.com/assets/colab-badge.svg\" alt=\"Open In Colab\"/></a>"
      ]
    },
    {
      "cell_type": "code",
      "execution_count": null,
      "metadata": {
        "id": "KO_WO7r-jYSJ"
      },
      "outputs": [],
      "source": [
        "\n",
        "from tensorflow.keras.models import Sequential\n",
        "from tensorflow.keras.layers import Dense, Dropout, Flatten, Conv2D, MaxPooling2D\n",
        "from tensorflow.keras.callbacks import ModelCheckpoint,EarlyStopping\n",
        "from tensorflow.keras.datasets import mnist\n",
        "from tensorflow.keras.utils import to_categorical\n",
        "\n",
        "\n",
        "import tensorflow as tf\n",
        "import matplotlib.pyplot as plt\n",
        "import numpy as np\n",
        "\n",
        "import os\n",
        "\n",
        "fashion_mnist = tf.keras.datasets.fashion_mnist\n",
        "\n",
        "# 데이터를 불러옵니다.\n",
        "(x_train, y_train), (x_test, y_test) = fashion_mnist.load_data()\n"
      ]
    },
    {
      "cell_type": "code",
      "execution_count": null,
      "metadata": {
        "colab": {
          "base_uri": "https://localhost:8080/"
        },
        "id": "0hTLFfLckw78",
        "outputId": "5ac0e22c-8b88-41fd-e3a1-deb241ab8c70"
      },
      "outputs": [
        {
          "output_type": "execute_result",
          "data": {
            "text/plain": [
              "numpy.ndarray"
            ]
          },
          "metadata": {},
          "execution_count": 47
        }
      ],
      "source": [
        "\n",
        "type(x_train)\n"
      ]
    },
    {
      "cell_type": "code",
      "execution_count": null,
      "metadata": {
        "id": "1kIhf9OTk0u1",
        "colab": {
          "base_uri": "https://localhost:8080/"
        },
        "outputId": "27f14fbb-bda1-4116-ebe2-4d513f558b81"
      },
      "outputs": [
        {
          "output_type": "stream",
          "name": "stdout",
          "text": [
            "(60000, 28, 28)\n"
          ]
        }
      ],
      "source": [
        "\n",
        "print(x_train.shape)"
      ]
    },
    {
      "cell_type": "code",
      "execution_count": null,
      "metadata": {
        "colab": {
          "base_uri": "https://localhost:8080/",
          "height": 265
        },
        "id": "bESs8wq1k41s",
        "outputId": "3c485495-7659-4f58-8eef-265eda795a4c"
      },
      "outputs": [
        {
          "output_type": "display_data",
          "data": {
            "text/plain": [
              "<Figure size 432x288 with 1 Axes>"
            ],
            "image/png": "[encoded data removed]"
          },
          "metadata": {
            "needs_background": "light"
          }
        }
      ],
      "source": [
        "\n",
        "# 첫 번째 이미지를 확인해 봅시다.\n",
        "plt.imshow(x_train[5], cmap='Greys')\n",
        "plt.show()"
      ]
    },
    {
      "cell_type": "code",
      "execution_count": null,
      "metadata": {
        "colab": {
          "base_uri": "https://localhost:8080/"
        },
        "id": "nn2Bh1GClzdK",
        "outputId": "36fde392-b6f9-4dc9-cf8b-d9e38b7a1d23"
      },
      "outputs": [
        {
          "output_type": "stream",
          "name": "stdout",
          "text": [
            "0  0  0  0  1  0  0  0  0  22 88 1881721321251411991439  0  0  0  1  0  0  0  0  0  \n",
            "0  0  0  1  0  0  20 13119920619620224225525525022219720618812617 0  0  0  0  0  0  \n",
            "0  0  0  1  0  35 21419118317817516815016215915215817918318919518582 0  0  0  0  0  \n",
            "0  0  0  0  0  17019017217717617116916215514815416917417517517718318812 0  0  0  0  \n",
            "0  0  0  0  25 19418017817418418718918718418118920019719319017817519490 0  0  0  0  \n",
            "0  0  0  0  42 2181911972082042112092102122112142152132142112111912001580  0  0  0  \n",
            "0  0  0  0  88 22121521721921118515011810799 88 83 90 1352122032072191690  0  0  0  \n",
            "0  0  0  0  0  27 11816240 0  0  0  10 19 28 39 47 36 0  0  2032302202030  0  0  0  \n",
            "0  0  0  0  13813671 69 54 21621720318416816316216317822118638 26 7  0  0  0  0  0  \n",
            "0  0  0  0  67 13415422412966 81 11712912813213713112986 73 15715113421618 0  0  0  \n",
            "0  0  0  0  20319817218320625525525024324023923523824425523818416086 98 0  0  0  0  \n",
            "0  0  0  0  12218822415110512797 10010511411711711310398 11114225419125549 0  0  0  \n",
            "0  0  0  0  16317920095 15419819720020019819719819920220017686 20615716210 0  0  0  \n",
            "0  0  0  0  19720122971 14419418118317918218017918019018519776 21918520134 0  0  0  \n",
            "0  0  0  0  19919322658 15419218418718418618418518319219120056 21920320760 0  0  0  \n",
            "0  0  0  0  20119422441 16319018618618418518318517819019420233 21120020673 0  0  0  \n",
            "0  0  0  0  20119722217 17219018618718218618518718018719320226 21220220376 0  0  0  \n",
            "0  0  0  0  2001972230  17718918418517818418318418018318920335 19620320384 0  0  0  \n",
            "0  0  0  0  2001972230  18518718518718018418218317818218320544 15920720185 0  0  0  \n",
            "0  0  0  0  1871982250  19418818418518018318318418118117720646 12921120088 0  0  0  \n",
            "0  0  0  6  1862002110  19918918418418518218318418518217520550 97 21619793 0  0  0  \n",
            "0  0  0  5  1852041840  20218818218218318318418218018217420263 59 22019694 0  0  0  \n",
            "0  0  0  5  1842061570  20418718718919219019019119018718320278 35 22219795 0  0  0  \n",
            "0  0  0  5  1832081270  19716615314914914614814915015115819190 8  22319599 0  0  0  \n",
            "0  0  0  6  1842081140  2041731611801761721731731741761622021150  2291991050  0  0  \n",
            "0  0  0  9  1782041150  12113511411711411411711811911711314763 0  2251961070  0  0  \n",
            "0  0  0  18 1802061310  0  0  0  0  0  0  0  0  0  0  0  0  0  0  2241971230  0  0  \n",
            "0  0  0  0  14115176 0  1  1  0  0  0  0  0  0  0  0  0  0  0  0  13316773 0  0  0  \n"
          ]
        }
      ],
      "source": [
        "\n",
        "# 이미지가 인식되는 원리를 알아봅시다.\n",
        "\n",
        "import sys\n",
        "\n",
        "for x in x_train[5]:\n",
        "    for i in x:\n",
        "        sys.stdout.write(\"%-3s\" % i)\n",
        "    sys.stdout.write('\\n')"
      ]
    },
    {
      "cell_type": "code",
      "execution_count": null,
      "metadata": {
        "id": "JK37FkjDl5OX"
      },
      "outputs": [],
      "source": [
        "\n",
        "x_train = x_train.reshape(x_train.shape[0], 28, 28, 1).astype('float32') / 255\n",
        "x_test = x_test.reshape(x_test.shape[0], 28, 28, 1).astype('float32') / 255\n",
        "y_train = to_categorical(y_train)\n",
        "y_test = to_categorical(y_test)"
      ]
    },
    {
      "cell_type": "code",
      "source": [
        "y_train[5]"
      ],
      "metadata": {
        "colab": {
          "base_uri": "https://localhost:8080/"
        },
        "id": "iw-SEWwAyEUd",
        "outputId": "1c6ce85f-5ccb-495c-dac4-f784cbc80dfc"
      },
      "execution_count": null,
      "outputs": [
        {
          "output_type": "execute_result",
          "data": {
            "text/plain": [
              "array([0., 0., 1., 0., 0., 0., 0., 0., 0., 0.], dtype=float32)"
            ]
          },
          "metadata": {},
          "execution_count": 52
        }
      ]
    },
    {
      "cell_type": "code",
      "source": [
        "type(y_train)"
      ],
      "metadata": {
        "colab": {
          "base_uri": "https://localhost:8080/"
        },
        "id": "_uV2RuwqyKkT",
        "outputId": "c1ee9a1a-d645-426c-8d93-82f48a5ef80a"
      },
      "execution_count": null,
      "outputs": [
        {
          "output_type": "execute_result",
          "data": {
            "text/plain": [
              "numpy.ndarray"
            ]
          },
          "metadata": {},
          "execution_count": 53
        }
      ]
    },
    {
      "cell_type": "code",
      "source": [
        "# 컨볼루션 신경망의 설정\n",
        "model = Sequential()\n",
        "model.add(Conv2D(32, kernel_size=(4, 4), input_shape=(28, 28, 1), activation='relu'))\n",
        "model.add(Conv2D(64, (3, 3), activation='relu'))\n",
        "model.add(MaxPooling2D(pool_size=(2,2)))\n",
        "model.add(Dropout(0.25))\n",
        "model.add(Flatten())\n",
        "model.add(Dense(128,  activation='relu'))\n",
        "model.add(Dropout(0.3))\n",
        "model.add(Dense(10, activation='softmax'))\n",
        "\n",
        "# 모델의 실행 옵션을 설정합니다.\n",
        "model.compile(loss='categorical_crossentropy',\n",
        "              optimizer='adam',\n",
        "              metrics=['accuracy'])\n",
        "\n",
        "# 모델 최적화를 위한 설정 구간입니다.\n",
        "\n",
        "#MODEL_DIR = './data/model/'\n",
        "#if not os.path.exists(MODEL_DIR):\n",
        "#    os.mkdir(MODEL_DIR)\n",
        "\n",
        "modelpath=\"./data/model/MNIST_CNN.hdf5\"\n",
        "\n",
        "\n",
        "checkpointer = ModelCheckpoint(filepath=modelpath, monitor='val_loss', verbose=1, save_best_only=True)\n",
        "early_stopping_callback = EarlyStopping(monitor='val_loss', patience=10)\n",
        "\n",
        "# 모델을 실행합니다.\n",
        "history = model.fit(x_train, y_train, validation_split=0.25, epochs=30, batch_size=200, verbose=0, callbacks=[early_stopping_callback,checkpointer])\n",
        "\n",
        "# 테스트 정확도를 출력합니다.\n",
        "print(\"\\n Test Accuracy: %.4f\" % (model.evaluate(x_test, y_test)[1]))"
      ],
      "metadata": {
        "colab": {
          "base_uri": "https://localhost:8080/"
        },
        "id": "XNBbGfJm7xT7",
        "outputId": "129a6392-29d9-4885-b1f4-ce54f90f9c27"
      },
      "execution_count": null,
      "outputs": [
        {
          "output_type": "stream",
          "name": "stdout",
          "text": [
            "\n",
            "Epoch 1: val_loss improved from inf to 0.38114, saving model to ./data/model/MNIST_CNN.hdf5\n",
            "\n",
            "Epoch 2: val_loss improved from 0.38114 to 0.31647, saving model to ./data/model/MNIST_CNN.hdf5\n",
            "\n",
            "Epoch 3: val_loss improved from 0.31647 to 0.29048, saving model to ./data/model/MNIST_CNN.hdf5\n",
            "\n",
            "Epoch 4: val_loss improved from 0.29048 to 0.26639, saving model to ./data/model/MNIST_CNN.hdf5\n",
            "\n",
            "Epoch 5: val_loss improved from 0.26639 to 0.25092, saving model to ./data/model/MNIST_CNN.hdf5\n",
            "\n",
            "Epoch 6: val_loss improved from 0.25092 to 0.25003, saving model to ./data/model/MNIST_CNN.hdf5\n",
            "\n",
            "Epoch 7: val_loss improved from 0.25003 to 0.24125, saving model to ./data/model/MNIST_CNN.hdf5\n",
            "\n",
            "Epoch 8: val_loss improved from 0.24125 to 0.23955, saving model to ./data/model/MNIST_CNN.hdf5\n",
            "\n",
            "Epoch 9: val_loss improved from 0.23955 to 0.23631, saving model to ./data/model/MNIST_CNN.hdf5\n",
            "\n",
            "Epoch 10: val_loss improved from 0.23631 to 0.22113, saving model to ./data/model/MNIST_CNN.hdf5\n",
            "\n",
            "Epoch 11: val_loss did not improve from 0.22113\n",
            "\n",
            "Epoch 12: val_loss did not improve from 0.22113\n",
            "\n",
            "Epoch 13: val_loss did not improve from 0.22113\n",
            "\n",
            "Epoch 14: val_loss did not improve from 0.22113\n",
            "\n",
            "Epoch 15: val_loss did not improve from 0.22113\n",
            "\n",
            "Epoch 16: val_loss did not improve from 0.22113\n",
            "\n",
            "Epoch 17: val_loss did not improve from 0.22113\n",
            "\n",
            "Epoch 18: val_loss did not improve from 0.22113\n",
            "\n",
            "Epoch 19: val_loss did not improve from 0.22113\n",
            "\n",
            "Epoch 20: val_loss did not improve from 0.22113\n",
            "313/313 [==============================] - 8s 24ms/step - loss: 0.2874 - accuracy: 0.9178\n",
            "\n",
            " Test Accuracy: 0.9178\n"
          ]
        }
      ]
    },
    {
      "cell_type": "code",
      "source": [
        "# 검증셋과 학습셋의 오차를 그래프로 표현\n",
        "y_vloss = history.history['val_loss']\n",
        "y_loss = history.history['loss']\n",
        "\n",
        "x_len = np.arange(len(y_loss))\n",
        "plt.plot(x_len, y_vloss, marker='.', c=\"red\", label='Testset_loss')\n",
        "plt.plot(x_len, y_loss, marker='.', c=\"blue\", label='Trainset_loss')\n",
        "\n",
        "\n",
        "plt.legend(loc='upper right')\n",
        "plt.grid()\n",
        "plt.xlabel('epoch')\n",
        "plt.ylabel('loss')\n",
        "plt.show()"
      ],
      "metadata": {
        "colab": {
          "base_uri": "https://localhost:8080/",
          "height": 279
        },
        "id": "jaeGcF0RFCT_",
        "outputId": "be5296c2-9539-42ec-c9ac-b58ad6ecac4b"
      },
      "execution_count": null,
      "outputs": [
        {
          "output_type": "display_data",
          "data": {
            "text/plain": [
              "<Figure size 432x288 with 1 Axes>"
            ],
            "image/png": "[encoded data removed]"
          },
          "metadata": {
            "needs_background": "light"
          }
        }
      ]
    }
  ],
  "metadata": {
    "colab": {
      "provenance": [],
      "authorship_tag": "ABX9TyNEYFALtXF9P4bO16AIiXW0",
      "include_colab_link": true
    },
    "kernelspec": {
      "display_name": "Python 3",
      "name": "python3"
    },
    "language_info": {
      "name": "python"
    }
  },
  "nbformat": 4,
  "nbformat_minor": 0
}