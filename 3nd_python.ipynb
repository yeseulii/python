{
  "nbformat": 4,
  "nbformat_minor": 0,
  "metadata": {
    "colab": {
      "provenance": [],
      "authorship_tag": "ABX9TyOWs1iH45k7IfacGKRGQ9wl",
      "include_colab_link": true
    },
    "kernelspec": {
      "name": "python3",
      "display_name": "Python 3"
    },
    "language_info": {
      "name": "python"
    }
  },
  "cells": [
    {
      "cell_type": "markdown",
      "metadata": {
        "id": "view-in-github",
        "colab_type": "text"
      },
      "source": [
        "<a href=\"https://colab.research.google.com/github/yeseulii/python/blob/main/3nd_python.ipynb\" target=\"_parent\"><img src=\"https://colab.research.google.com/assets/colab-badge.svg\" alt=\"Open In Colab\"/></a>"
      ]
    },
    {
      "cell_type": "code",
      "source": [
        "x=int(input(\"x를 입력하세요. x: \"))\n",
        "y=int(input(\"y를 입력하세요. y: \"))\n",
        "\n",
        "def a(x,y):\n",
        "  if(y%x==0):\n",
        "    return 1\n",
        "  else:\n",
        "    return 0\n",
        "\n",
        "result1=a(x,y)\n",
        "result2=a(y,x)\n",
        "\n",
        "if x==y:\n",
        "  print(\"%(x)d와 %(y)d는 같은 숫자이다.\" %{\"x\":x, \"y\":y})\n",
        "elif x%y==0:\n",
        "  print(\"%(y)d는 %(x)d의 약수이지만,%(x)d가 아니다.\" %{\"y\":y, \"x\":x})\n",
        "elif y%x==0:\n",
        "  print(\"%(x)d는 %(y)d의 약수이지만,%(y)d가 아니다.\" %{\"x\":x, \"y\":y})\n",
        "else:\n",
        "  print(\"%(x)d와 %(y)d는 서로의 약수가 아니다.\" %{\"x\":x, \"y\":y})"
      ],
      "metadata": {
        "colab": {
          "base_uri": "https://localhost:8080/"
        },
        "id": "eeRsI6OfGaAR",
        "outputId": "4fd4b31d-c651-4786-ff71-a843328cedfc"
      },
      "execution_count": null,
      "outputs": [
        {
          "output_type": "stream",
          "name": "stdout",
          "text": [
            "x를 입력하세요. x: 10\n",
            "y를 입력하세요. y: 5\n",
            "5는 10의 약수이지만,10가 아니다.\n"
          ]
        }
      ]
    }
  ]
}