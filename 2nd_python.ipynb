{
  "nbformat": 4,
  "nbformat_minor": 0,
  "metadata": {
    "colab": {
      "provenance": [],
      "collapsed_sections": [],
      "authorship_tag": "ABX9TyOpA/8zothyFHZUck9uZDaB",
      "include_colab_link": true
    },
    "kernelspec": {
      "name": "python3",
      "display_name": "Python 3"
    },
    "language_info": {
      "name": "python"
    }
  },
  "cells": [
    {
      "cell_type": "markdown",
      "metadata": {
        "id": "view-in-github",
        "colab_type": "text"
      },
      "source": [
        "<a href=\"https://colab.research.google.com/github/yeseulii/python/blob/main/2nd_python.ipynb\" target=\"_parent\"><img src=\"https://colab.research.google.com/assets/colab-badge.svg\" alt=\"Open In Colab\"/></a>"
      ]
    },
    {
      "cell_type": "code",
      "source": [
        "aaa=int(input())\n",
        "if aaa<=30: \n",
        " i=0\n",
        " while i<aaa:\n",
        "   j=1\n",
        "   while j<=i:\n",
        "     print('*',end=\"\")\n",
        "     j+=1\n",
        "   i+=1\n",
        "   print(i)   \n",
        "else:\n",
        "  print(\"너무 많아요\")"
      ],
      "metadata": {
        "colab": {
          "base_uri": "https://localhost:8080/"
        },
        "id": "EO9FI0Ks6WWF",
        "outputId": "45786d31-b652-41f3-fd47-6a16ab0427f7"
      },
      "execution_count": null,
      "outputs": [
        {
          "output_type": "stream",
          "name": "stdout",
          "text": [
            "30\n",
            "1\n",
            "*2\n",
            "**3\n",
            "***4\n",
            "****5\n",
            "*****6\n",
            "******7\n",
            "*******8\n",
            "********9\n",
            "*********10\n",
            "**********11\n",
            "***********12\n",
            "************13\n",
            "*************14\n",
            "**************15\n",
            "***************16\n",
            "****************17\n",
            "*****************18\n",
            "******************19\n",
            "*******************20\n",
            "********************21\n",
            "*********************22\n",
            "**********************23\n",
            "***********************24\n",
            "************************25\n",
            "*************************26\n",
            "**************************27\n",
            "***************************28\n",
            "****************************29\n",
            "*****************************30\n"
          ]
        }
      ]
    },
    {
      "cell_type": "markdown",
      "source": [],
      "metadata": {
        "id": "7y-fIPHdtqMW"
      }
    },
    {
      "cell_type": "code",
      "source": [],
      "metadata": {
        "id": "dhzCTqXA40Dm"
      },
      "execution_count": null,
      "outputs": []
    },
    {
      "cell_type": "code",
      "source": [
        "a=[]\n",
        "n=int(input('자연수 한 개를 입력하세요.:'))\n",
        "a.append(n)\n",
        "print('계속입력을 원하시면, 자연수 한 개를 입력하시고, 아니라면 0을 입력하세요.')\n",
        "i=0\n",
        "while True:\n",
        "    n = int(input())\n",
        "    a.append(n)\n",
        "    if i == 98:\n",
        "        print ('이제 그만하세요. 벌써 100개를 입력했어요.')\n",
        "        break\n",
        "    elif n==0:\n",
        "        break\n",
        "        i+=1\n",
        "    print('계속입력을 원하시면, 자연수 한 개를 입략하시고, 아니라면 0을 입력하세요.')\n",
        "for j in range(len(a)-1):\n",
        "  for k in range(j+1, len(a)):\n",
        "    if a[j]< a[k]:\n",
        "      a[j],a[k]=a[k],a[j]\n",
        "print('당신이 입력한 숫자는 큰 것부터 순서대로 말한다면 아래와 같습니다.')\n",
        "print(a)\n"
      ],
      "metadata": {
        "colab": {
          "base_uri": "https://localhost:8080/"
        },
        "id": "5g3-zEZ_OA-6",
        "outputId": "b80ea448-02e6-4d7d-b851-7b9bd9b66457"
      },
      "execution_count": null,
      "outputs": [
        {
          "output_type": "stream",
          "name": "stdout",
          "text": [
            "자연수 한 개를 입력하세요.:8\n",
            "계속입력을 원하시면, 자연수 한 개를 입력하시고, 아니라면 0을 입력하세요.\n",
            "46\n",
            "계속입력을 원하시면, 자연수 한 개를 입략하시고, 아니라면 0을 입력하세요.\n",
            "32\n",
            "계속입력을 원하시면, 자연수 한 개를 입략하시고, 아니라면 0을 입력하세요.\n",
            "135\n",
            "계속입력을 원하시면, 자연수 한 개를 입략하시고, 아니라면 0을 입력하세요.\n",
            "9754\n",
            "계속입력을 원하시면, 자연수 한 개를 입략하시고, 아니라면 0을 입력하세요.\n",
            "7\n",
            "계속입력을 원하시면, 자연수 한 개를 입략하시고, 아니라면 0을 입력하세요.\n",
            "0\n",
            "당신이 입력한 숫자는 큰 것부터 순서대로 말한다면 아래와 같습니다.\n",
            "[9754, 135, 46, 32, 8, 7, 0]\n"
          ]
        }
      ]
    }
  ]
}